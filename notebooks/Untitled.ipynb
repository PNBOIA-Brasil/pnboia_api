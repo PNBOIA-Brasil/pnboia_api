{
 "cells": [
  {
   "cell_type": "code",
   "execution_count": 30,
   "id": "f5abdc2f",
   "metadata": {},
   "outputs": [],
   "source": [
    "from datetime import datetime, timedelta\n",
    "from fastapi import FastAPI\n",
    "from fastapi.middleware.cors import CORSMiddleware\n",
    "import pandas as pd\n",
    "import numpy as np\n",
    "from pnboia_api.bd import GetData\n",
    "from fastapi.responses import JSONResponse\n",
    "import requests\n"
   ]
  },
  {
   "cell_type": "code",
   "execution_count": 4,
   "id": "6d812c10",
   "metadata": {},
   "outputs": [
    {
     "data": {
      "text/plain": [
       "datetime.datetime(2020, 10, 10, 0, 0)"
      ]
     },
     "execution_count": 4,
     "metadata": {},
     "output_type": "execute_result"
    }
   ],
   "source": [
    "datetime. strptime('2020-10-10', '%Y-%m-%d')"
   ]
  },
  {
   "cell_type": "code",
   "execution_count": 5,
   "id": "bb249439",
   "metadata": {},
   "outputs": [],
   "source": [
    "x = datetime.utcnow()"
   ]
  },
  {
   "cell_type": "code",
   "execution_count": 8,
   "id": "1ba88aaf",
   "metadata": {},
   "outputs": [],
   "source": [
    "y = datetime.utcnow() + timedelta(days=3)"
   ]
  },
  {
   "cell_type": "code",
   "execution_count": 12,
   "id": "2b66546a",
   "metadata": {},
   "outputs": [
    {
     "data": {
      "text/plain": [
       "True"
      ]
     },
     "execution_count": 12,
     "metadata": {},
     "output_type": "execute_result"
    }
   ],
   "source": [
    "pd.DataFrame().empty"
   ]
  },
  {
   "cell_type": "code",
   "execution_count": 28,
   "id": "3d08178e",
   "metadata": {},
   "outputs": [],
   "source": [
    "data = {\n",
    "    \"id\": 35,\n",
    "    \"name_buoy\": \"Baia Guanabara\",\n",
    "    \"model\": \"Spotter\",\n",
    "    \"lat\": -22.9831,\n",
    "    \"lon\": -43.1744,\n",
    "    \"depth\": 20,\n",
    "    \"deploy_date\": \"2021-02-04 08:0000\",\n",
    "    \"status\": \"Inativa\",\n",
    "    \"wmo_number\": \"1234\",\n",
    "    \"duration_wave\": \"-9999\",\n",
    "    \"h_sensor_pres\": \"-9999\",\n",
    "    \"d_sensor_wtmp\": \"-9999\",\n",
    "    \"wtmp_prec\": \"-9999\",\n",
    "    \"wind_avg\": \"-9999\",\n",
    "    \"h_sensor_wind\": \"-9999\",\n",
    "    \"h_sensor_atmp\": \"-9999\",\n",
    "    \"gust_avg\": \"-9999\",\n",
    "    \"atmp_avg\": \"-9999\",\n",
    "    \"d_curr\": \"-9999\",\n",
    "    \"h_sensor_wind_2\": \"-9999\"\n",
    "  }"
   ]
  },
  {
   "cell_type": "code",
   "execution_count": 32,
   "id": "4f1d27ba",
   "metadata": {},
   "outputs": [
    {
     "data": {
      "text/plain": [
       "'[{\"id\":35,\"name_buoy\":\"Baia Guanabara\",\"model\":\"Spotter\",\"lat\":-22.9831,\"lon\":-43.1744,\"depth\":20,\"deploy_date\":\"2021-02-04 08:0000\",\"status\":\"Inativa\",\"wmo_number\":\"1234\",\"duration_wave\":\"-9999\",\"h_sensor_pres\":\"-9999\",\"d_sensor_wtmp\":\"-9999\",\"wtmp_prec\":\"-9999\",\"wind_avg\":\"-9999\",\"h_sensor_wind\":\"-9999\",\"h_sensor_atmp\":\"-9999\",\"gust_avg\":\"-9999\",\"atmp_avg\":\"-9999\",\"d_curr\":\"-9999\",\"h_sensor_wind_2\":\"-9999\"}]'"
      ]
     },
     "execution_count": 32,
     "metadata": {},
     "output_type": "execute_result"
    }
   ],
   "source": [
    "df_json = pd.DataFrame.from_dict(data, orient='index').T.to_json(orient='records', date_format='iso') \n",
    "df_json"
   ]
  },
  {
   "cell_type": "code",
   "execution_count": 41,
   "id": "edc502f5",
   "metadata": {},
   "outputs": [
    {
     "data": {
      "text/plain": [
       "<Response [500]>"
      ]
     },
     "execution_count": 41,
     "metadata": {},
     "output_type": "execute_result"
    }
   ],
   "source": [
    "requests.post('http://localhost:8000/v2/buoys', data=df_json)"
   ]
  },
  {
   "cell_type": "code",
   "execution_count": null,
   "id": "29b624cf",
   "metadata": {},
   "outputs": [],
   "source": []
  },
  {
   "cell_type": "code",
   "execution_count": null,
   "id": "acf933d7",
   "metadata": {},
   "outputs": [],
   "source": [
    "days"
   ]
  },
  {
   "cell_type": "code",
   "execution_count": 10,
   "id": "d95c9820",
   "metadata": {},
   "outputs": [
    {
     "data": {
      "text/plain": [
       "-4"
      ]
     },
     "execution_count": 10,
     "metadata": {},
     "output_type": "execute_result"
    }
   ],
   "source": [
    "(x-y).days"
   ]
  },
  {
   "cell_type": "code",
   "execution_count": 3,
   "id": "1f2a9309",
   "metadata": {},
   "outputs": [
    {
     "data": {
      "text/plain": [
       "'2022-'"
      ]
     },
     "execution_count": 3,
     "metadata": {},
     "output_type": "execute_result"
    }
   ],
   "source": [
    "datetime.now().strftimstre(\"%Y-%d-%h\")"
   ]
  }
 ],
 "metadata": {
  "kernelspec": {
   "display_name": "Python 3 (ipykernel)",
   "language": "python",
   "name": "python3"
  },
  "language_info": {
   "codemirror_mode": {
    "name": "ipython",
    "version": 3
   },
   "file_extension": ".py",
   "mimetype": "text/x-python",
   "name": "python",
   "nbconvert_exporter": "python",
   "pygments_lexer": "ipython3",
   "version": "3.8.6"
  },
  "toc": {
   "base_numbering": 1,
   "nav_menu": {},
   "number_sections": true,
   "sideBar": true,
   "skip_h1_title": false,
   "title_cell": "Table of Contents",
   "title_sidebar": "Contents",
   "toc_cell": false,
   "toc_position": {},
   "toc_section_display": true,
   "toc_window_display": false
  }
 },
 "nbformat": 4,
 "nbformat_minor": 5
}
